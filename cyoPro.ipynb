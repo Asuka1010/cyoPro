{
 "cells": [
  {
   "cell_type": "code",
   "execution_count": null,
   "metadata": {},
   "outputs": [],
   "source": [
    "import neurokit2 as neurokit2\n",
    "ecg = nk.data(dataset=\"ecg_1000hz\")\n",
    "nk.signal_plot(ecg[0:10000],sampling_rate=1000)"
   ]
  },
  {
   "execution_count": null,
   "metadata": {},
   "outputs": [],
   "source": []
  }
 ],
 "metadata": {
  "language_info": {
   "name": "python"
  }
 },
 "nbformat": 4,
 "nbformat_minor": 2
}
